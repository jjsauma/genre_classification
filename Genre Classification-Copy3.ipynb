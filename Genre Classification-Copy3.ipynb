{
 "cells": [
  {
   "cell_type": "markdown",
   "metadata": {},
   "source": [
    "# Task 2: Genre classification\n",
    "\n",
    "Joaquin Jimenez Sauma\n",
    "\n",
    "This notebook trains a SVM for musical genre prediction based on features computed using Essentia's MusicExtractor.\n",
    "\n",
    "Please note:\n",
    "\n",
    "- Cells can be run all at once. \n",
    "- Feature extraction is a lenghty process.\n",
    "- This process assumes you already downloaded the file `Essentia_genre_task.zip` and it has been unzipped. \n",
    "- The feature extraction cell takes a lot of time, if you want to skip this process, unzip the provided `pre.zip` file in the same folder as the dataset file. It contains the pre processed files.\n",
    "- Please update variable `path` in cell number 2 to the folder where the `Essentia_genre_task.zip` and `pre.zip` files has been unzipped."
   ]
  },
  {
   "cell_type": "code",
   "execution_count": 20,
   "metadata": {},
   "outputs": [],
   "source": [
    "import os\n",
    "import urllib\n",
    "import zipfile\n",
    "import json\n",
    "import itertools\n",
    "import numpy as np\n",
    "import matplotlib.pyplot as plt\n",
    "import essentia\n",
    "import essentia.standard as es\n",
    "import pandas as pd \n",
    "import seaborn as sns\n",
    "import json_flattener\n",
    "from shutil import copyfile\n",
    "\n",
    "from sklearn import svm\n",
    "from sklearn.model_selection import train_test_split\n",
    "from sklearn.metrics import confusion_matrix, accuracy_score\n",
    "from sklearn import preprocessing\n",
    "from sklearn.preprocessing import StandardScaler\n",
    "from sklearn.svm import SVC\n",
    "from sklearn.feature_selection import SelectFromModel\n",
    "from sklearn.svm import LinearSVC\n",
    "from sklearn.feature_selection import SelectKBest"
   ]
  },
  {
   "cell_type": "markdown",
   "metadata": {},
   "source": [
    "## Update ´root´ variable in next cell"
   ]
  },
  {
   "cell_type": "code",
   "execution_count": 21,
   "metadata": {},
   "outputs": [],
   "source": [
    "# Please update path here\n",
    "# this is the path of the unzipped folder containing the audio files\n",
    "root = '../data/gc/'\n",
    "\n",
    "preProcessed = os.path.join(root, 'pre') # Path for json files \n",
    "path = os.path.join(root, 'genre') # Patch for audio file\n",
    "genres = [f for f in os.listdir(path) if not f.startswith('.')]\n",
    "genres.sort()"
   ]
  },
  {
   "cell_type": "markdown",
   "metadata": {},
   "source": [
    "## Feature Extraction (please read)\n",
    "\n",
    "Next cell is the one that actually computes features from audio files. It will create .json files in the `pre` folder. If you want to train the model again, there is no need to run this cell again without extracting, just skip the next two cells.\n",
    "\n",
    "### WARNING: This process takes time, during my tests, it took around 90 minutes to complete.\n",
    "\n",
    "The process starts running and will show a message telling you that it is complete."
   ]
  },
  {
   "cell_type": "code",
   "execution_count": 3,
   "metadata": {
    "scrolled": false
   },
   "outputs": [
    {
     "name": "stdout",
     "output_type": "stream",
     "text": [
      "Extracting from spe...\n",
      "Extracting from pop...\n",
      "Extracting from dan...\n",
      "Extracting from jaz...\n",
      "Extracting from cla...\n",
      "Extracting from roc...\n",
      "Extracting from hip...\n",
      "Extracting from rhy...\n",
      "Analysis finished!\n"
     ]
    }
   ],
   "source": [
    "# Extract features:\n",
    "\n",
    "genres = [f for f in os.listdir(path) if not f.startswith('.')]\n",
    "for genre in genres:\n",
    "    print(\"Extracting from \" + genre + '...')\n",
    "    files = [f for f in os.listdir(os.path.join(path, genre)) if not f.startswith('.')]\n",
    "    for file in files:\n",
    "        if(file.endswith('.mp3')):\n",
    "            filename = os.path.join(path, genre, file) \n",
    "            features, features_frames = es.MusicExtractor(lowlevelStats = ['mean', 'stdev'],\n",
    "                                                          rhythmStats = ['mean', 'stdev'],\n",
    "                                                          tonalStats = ['mean', 'stdev'])(filename)\n",
    "            features_frames = []\n",
    "            es.YamlOutput(filename = filename.replace('.mp3','.json'), format = 'json')(features)\n",
    "            features = []\n",
    "            filename = []\n",
    "            \n",
    "print ('Analysis finished!')\n"
   ]
  },
  {
   "cell_type": "markdown",
   "metadata": {},
   "source": [
    "## Copy json files to a folder\n",
    "\n",
    "You can also skip this cell if you already created it, ot unzipped the provided. `pre.zip` file."
   ]
  },
  {
   "cell_type": "code",
   "execution_count": 9,
   "metadata": {},
   "outputs": [
    {
     "name": "stdout",
     "output_type": "stream",
     "text": [
      "Json files copied to pre processed folder\n"
     ]
    }
   ],
   "source": [
    "# Save results from previous extractions to avoid extracting everytime\n",
    "\n",
    "try:\n",
    "    os.remove(preProcessed + '*.*')\n",
    "except OSError:\n",
    "    pass\n",
    "    \n",
    "try:\n",
    "    os.system('rm -rf ' + preProcessed)\n",
    "except:\n",
    "    pass    \n",
    "    \n",
    "if not os.path.exists(preProcessed):\n",
    "    os.umask(0)\n",
    "    os.makedirs(preProcessed, 0o777)   \n",
    "\n",
    "for genre in genres:\n",
    "    files = [f for f in os.listdir(os.path.join(path, genre)) if  f.endswith('.json')]\n",
    "    if not os.path.exists(os.path.join(preProcessed, genre)):\n",
    "        os.umask(0)\n",
    "        os.makedirs(os.path.join(preProcessed, genre), 0o777) \n",
    "    for file in files:\n",
    "        filename = os.path.join(path, genre, file) \n",
    "        #print ('copiar: ' + filename + 'a: ' + os.path.join(preProcessed, file))\n",
    "        copyfile(filename, os.path.join(preProcessed, genre, file))\n",
    "        \n",
    "print('Json files copied to pre processed folder')"
   ]
  },
  {
   "cell_type": "markdown",
   "metadata": {},
   "source": [
    "## Select standard keys in json file\n",
    "\n",
    "Different information key was found on json files, before processing, I need to select a common set of keys. Will flatten json files first and will select the one with the minimum. A list of keys is created based on the minimunm."
   ]
  },
  {
   "cell_type": "code",
   "execution_count": 22,
   "metadata": {
    "scrolled": true
   },
   "outputs": [
    {
     "name": "stdout",
     "output_type": "stream",
     "text": [
      "The file with the minimum number of keys is: tlfno_hombres_10.json\n"
     ]
    }
   ],
   "source": [
    "# Select standard keys in json files\n",
    "\n",
    "min_keys = 100000\n",
    "smallest_json = \"\"\n",
    "smallest_json_file = \"\" \n",
    "\n",
    "for dirName, subdirList, fileList in os.walk(preProcessed):\n",
    "    for fname in fileList:\n",
    "        jsonFile = open(os.path.join(dirName, fname),\"r\",encoding = \"utf-8\")\n",
    "        jsontoPython = json.loads(jsonFile.read(), strict = False)\n",
    "        flatJson = json_flattener.flatten_json(jsontoPython)\n",
    "        if(min_keys > len(flatJson.keys())):\n",
    "            min_keys = len(flatJson.keys())\n",
    "            smallest_json = flatJson\n",
    "            smallest_json_file = fname\n",
    "            \n",
    "print(\"The file with the minimum number of keys is: \" + smallest_json_file)\n",
    "\n",
    "# Remove non used keys from the selected file\n",
    "discard_keyset = set()\n",
    "for key in smallest_json.keys():\n",
    "    if(type(smallest_json.get(key)) is str):\n",
    "        discard_keyset.add(key)\n",
    "for key in discard_keyset:\n",
    "    smallest_json.pop(key,None)\n",
    "    \n",
    "sortedKeySet = sorted(smallest_json.keys())\n",
    "keyList = ['filename','genre']\n",
    "keyList.extend(sortedKeySet)"
   ]
  },
  {
   "cell_type": "code",
   "execution_count": 23,
   "metadata": {},
   "outputs": [
    {
     "name": "stdout",
     "output_type": "stream",
     "text": [
      "Loading data into dataframes...\n",
      "Create training dataset...\n",
      "All data into dataframes and ready to train model\n"
     ]
    }
   ],
   "source": [
    "# Will load selected data into Pandas Dataframes\n",
    "\n",
    "dictValues = {}\n",
    "dfv = pd.DataFrame(dictValues, columns = keyList)\n",
    "i = 0\n",
    "\n",
    "print ('Loading data into dataframes...')\n",
    "for genre in genres:\n",
    "    files = os.listdir(os.path.join(preProcessed, genre))\n",
    "    for fileName in files:\n",
    "        if(fileName.endswith('.json')):\n",
    "            jsonFile = open (os.path.join(preProcessed, genre, fileName), \"r\",encoding = \"utf-8\")  #+ \"/\" + fileName,\"r\",encoding = \"utf-8\")\n",
    "            jsonToPython = json.loads(jsonFile.read(), strict=False)\n",
    "            flatJson = json_flattener.flatten_json(jsonToPython)\n",
    "            dictValues[keyList[0]] = fileName.replace('.json','')\n",
    "            dictValues[keyList[1]] = genres.index(genre) + 1\n",
    "            for index in range(2,len(keyList)):\n",
    "                dictValues[keyList[index]] = flatJson.get(keyList[index])\n",
    "            dfv.loc[i] = (dictValues)\n",
    "            i += 1\n",
    "\n",
    "df1 = dfv.iloc[:, :2] \n",
    "df2 = dfv.iloc[:, 2:]\n",
    "scaler = StandardScaler() \n",
    "df2[df2.columns] = scaler.fit_transform(df2[df2.columns])\n",
    "\n",
    "print('Create training dataset...') \n",
    "\n",
    "df = pd.concat([df1, df2], axis = 1)\n",
    "train_df = pd.concat([df.iloc[:44,:],df.iloc[55:99,:],df.iloc[110:154,:],df.iloc[165:209,:],\n",
    "                     df.iloc[220:263,:],df.iloc[274:318,:],df.iloc[329:373,:],df.iloc[384:427,:]], ignore_index = True)\n",
    "test_df = pd.concat([df.iloc[44:55,:],df.iloc[99:110,:],df.iloc[154:165,:],df.iloc[209:220,:],\n",
    "                   df.iloc[263:274,:],df.iloc[318:329,:],df.iloc[373:384,:],df.iloc[427:438,:]], ignore_index = True)\n",
    "\n",
    "print ('All data into dataframes and ready to train model')"
   ]
  },
  {
   "cell_type": "markdown",
   "metadata": {},
   "source": [
    "## Training SVM classifier\n",
    "\n",
    "The next cell does the actual training with the data loaded  and stores the results."
   ]
  },
  {
   "cell_type": "code",
   "execution_count": 24,
   "metadata": {},
   "outputs": [],
   "source": [
    "X = train_df.iloc[:,2:].as_matrix()\n",
    "y = train_df.transpose().as_matrix()[1].astype('int')\n",
    "\n",
    "clf = LinearSVC()\n",
    "clf.fit(X, y)\n",
    "\n",
    "test_data = test_df.iloc[:,2:].as_matrix()\n",
    "clf_output = clf.predict(test_data) \n",
    "gt = test_df.transpose().as_matrix()[1].astype('int') "
   ]
  },
  {
   "cell_type": "markdown",
   "metadata": {},
   "source": [
    "## Creating Confusion Matrix\n",
    "\n",
    "Next cell creates the confusion matrix to evaluate accuracy of the classifier."
   ]
  },
  {
   "cell_type": "code",
   "execution_count": 25,
   "metadata": {
    "scrolled": false
   },
   "outputs": [
    {
     "name": "stdout",
     "output_type": "stream",
     "text": [
      "Accuracy : 84.0909090909 %\n"
     ]
    },
    {
     "data": {
      "image/png": "[encoded data removed]",
      "text/plain": [
       "<matplotlib.figure.Figure at 0x7fa9235284a8>"
      ]
     },
     "metadata": {},
     "output_type": "display_data"
    }
   ],
   "source": [
    "cnf_matrix = confusion_matrix(gt, clf_output)\n",
    "np.set_printoptions(precision=2)\n",
    "class_names = genres\n",
    "\n",
    "sns.set()\n",
    "df_cm = pd.DataFrame(cnf_matrix, index = class_names, columns = class_names)\n",
    "fig = plt.figure(figsize = (8, 6))\n",
    "\n",
    "heatmap = sns.heatmap(df_cm, annot = True, fmt = \"d\", cmap = \"Blues\")\n",
    "heatmap.yaxis.set_ticklabels(heatmap.yaxis.get_ticklabels(), rotation = 0, ha = 'right', fontsize = 14)\n",
    "heatmap.xaxis.set_ticklabels(heatmap.xaxis.get_ticklabels(), rotation = 45, ha = 'right', fontsize = 14)\n",
    "\n",
    "plt.ylabel('Actual')\n",
    "plt.xlabel('Predicted')\n",
    "\n",
    "print(\"Accuracy : \" + str(100 * accuracy_score(gt, clf_output)) + \" %\")"
   ]
  },
  {
   "cell_type": "markdown",
   "metadata": {},
   "source": [
    "## Results\n",
    "\n",
    "The generated json files didn't had the same keys, so part of this process was about generating a consistend list of fields that we can find in all json files. Once the fields are selected, the actual classifier training begins. \n",
    "\n",
    "A Pandas Datagrid was used to store the information and 80% of it was used for training and 20% for testing as requested in the assignment.\n",
    "\n",
    "The analysis of the confusion matrix generated shows that some genres have better classification results than others, in this case the best are: Classical, Dance, Rock, and Speech. I think this are the genres with the most distinctive features. The other genres for example rhythmic and pop could be mistaken (as shown in the matrix). Speech for example won't be easily classified as pop. Rhythmic for me is not a clear genre, since other genres can be classified that way. The matrix shows many missclassified values for this genre.\n",
    "\n",
    "The efficiency of this classifier could be improved by using cross validation but is computer-expensive.\n",
    "\n",
    "For improvement I would need to test with feature selection or using different percentages of training and test data."
   ]
  },
  {
   "cell_type": "code",
   "execution_count": null,
   "metadata": {},
   "outputs": [],
   "source": []
  }
 ],
 "metadata": {
  "kernelspec": {
   "display_name": "Python 3",
   "language": "python",
   "name": "python3"
  },
  "language_info": {
   "codemirror_mode": {
    "name": "ipython",
    "version": 3
   },
   "file_extension": ".py",
   "mimetype": "text/x-python",
   "name": "python",
   "nbconvert_exporter": "python",
   "pygments_lexer": "ipython3",
   "version": "3.5.2"
  }
 },
 "nbformat": 4,
 "nbformat_minor": 2
}
